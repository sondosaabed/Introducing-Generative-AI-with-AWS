{
 "cells": [
  {
   "cell_type": "markdown",
   "id": "930a13ae",
   "metadata": {},
   "source": [
    "Responses dictionary"
   ]
  },
  {
   "cell_type": "code",
   "execution_count": 1,
   "id": "d0e2d3a8",
   "metadata": {},
   "outputs": [],
   "source": [
    "responses = {\n",
    "    \"hi\": \"Hello! Welcome to TechGadget Support. How can I assist you today?\",\n",
    "    \"do you have smartwatches\": \"Yes, we have a variety of smartwatches. You can check them out on our products page.\",\n",
    "    \"shipping time\": \"Shipping usually takes 3-5 business days.\",\n",
    "    \"shipping methods\": \"We offer standard, expedited, and overnight shipping.\",\n",
    "    \"return policy\": \"You can return products within 30 days of receipt for a full refund.\",\n",
    "    \"how to return\": \"To return a product, please visit our returns page for a step-by-step guide.\",\n",
    "    \"won’t turn on\": \"Make sure your gadget is charged. If it still won’t turn on, you can visit our troubleshooting page.\",\n",
    "    \"reset device\": \"To reset your device, hold down the power button for 10 seconds. If that doesn't work, please check the manual for a factory reset.\",\n",
    "    \"bye\": \"Thank you for visiting TechGadget. If you have more questions, feel free to ask. Goodbye!\"\n",
    "}"
   ]
  },
  {
   "cell_type": "markdown",
   "id": "16d48610",
   "metadata": {},
   "source": [
    "return response"
   ]
  },
  {
   "cell_type": "code",
   "execution_count": 2,
   "id": "03b8f11c",
   "metadata": {},
   "outputs": [],
   "source": [
    "def get_bot_response(user_input):\n",
    "    user_input = user_input.lower()\n",
    "\n",
    "    for keyword, response in responses.items():\n",
    "        if keyword in user_input:\n",
    "            return response\n",
    "\n",
    "    return \"I'm not sure how to respond to that. Can you try asking something else?\""
   ]
  },
  {
   "cell_type": "markdown",
   "id": "50431933",
   "metadata": {},
   "source": [
    "Start the response loop:"
   ]
  },
  {
   "cell_type": "code",
   "execution_count": 4,
   "id": "d815e1ad",
   "metadata": {},
   "outputs": [
    {
     "name": "stdout",
     "output_type": "stream",
     "text": [
      "You: Hi\n",
      "Bot: Hello! Welcome to TechGadget Support. How can I assist you today?\n",
      "You: won’t turn on\n",
      "Bot: Make sure your gadget is charged. If it still won’t turn on, you can visit our troubleshooting page.\n",
      "You: reset device\n",
      "Bot: To reset your device, hold down the power button for 10 seconds. If that doesn't work, please check the manual for a factory reset.\n",
      "You: bye\n",
      "Bot: Goodbye! If you have any more questions, we're here to help.\n"
     ]
    }
   ],
   "source": [
    "while True:\n",
    "    user_input = input(\"You: \")\n",
    "    if user_input.lower() in [\"quit\", \"exit\", \"bye\"]:\n",
    "        print(\"Bot: Goodbye! If you have any more questions, we're here to help.\")\n",
    "        break\n",
    "\n",
    "    response = get_bot_response(user_input)\n",
    "    print(f\"Bot: {response}\")"
   ]
  }
 ],
 "metadata": {
  "kernelspec": {
   "display_name": "conda_python3",
   "language": "python",
   "name": "conda_python3"
  },
  "language_info": {
   "codemirror_mode": {
    "name": "ipython",
    "version": 3
   },
   "file_extension": ".py",
   "mimetype": "text/x-python",
   "name": "python",
   "nbconvert_exporter": "python",
   "pygments_lexer": "ipython3",
   "version": "3.10.13"
  }
 },
 "nbformat": 4,
 "nbformat_minor": 5
}
