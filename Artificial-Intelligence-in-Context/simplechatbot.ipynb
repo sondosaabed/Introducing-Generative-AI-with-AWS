{
 "cells": [
  {
   "cell_type": "markdown",
   "id": "3c7cd794",
   "metadata": {},
   "source": [
    "Defining the Responses Dictionary"
   ]
  },
  {
   "cell_type": "code",
   "execution_count": 1,
   "id": "f04cdb66",
   "metadata": {},
   "outputs": [],
   "source": [
    "responses = {\n",
    "    \"hi\": \"Hello there! How can I assist you today?\",\n",
    "    \"how are you\": \"I'm a bot, so I don't have feelings, but I'm functioning properly!\",\n",
    "    \"bye\": \"Goodbye! Have a great day!\",\n",
    "    \"help\": \"Sure, I can help you. What do you need assistance with?\",\n",
    "}"
   ]
  },
  {
   "cell_type": "markdown",
   "id": "65b4a459",
   "metadata": {},
   "source": [
    "Defining the Function to Get Bot Responses"
   ]
  },
  {
   "cell_type": "code",
   "execution_count": 2,
   "id": "5c3e932d",
   "metadata": {},
   "outputs": [],
   "source": [
    "def get_bot_response(user_input):\n",
    "    user_input = user_input.lower()\n",
    "    return responses.get(user_input, \"I'm not sure how to respond to that. Can you try asking something else?\")"
   ]
  },
  {
   "cell_type": "markdown",
   "id": "9726a023",
   "metadata": {},
   "source": [
    "Running the Main Chat Loop"
   ]
  },
  {
   "cell_type": "code",
   "execution_count": 5,
   "id": "b8d3c9a6",
   "metadata": {},
   "outputs": [
    {
     "name": "stdout",
     "output_type": "stream",
     "text": [
      "You: Hi\n",
      "Bot: Hello there! How can I assist you today?\n",
      "You: help\n",
      "Bot: Sure, I can help you. What do you need assistance with?\n",
      "You: bye\n",
      "Bot: Goodbye! Have a great day!\n",
      "You: quit\n",
      "Bot: Goodbye!\n"
     ]
    }
   ],
   "source": [
    "while True:\n",
    "    user_input = input(\"You: \")\n",
    "    if user_input.lower() == \"quit\":\n",
    "        print(\"Bot: Goodbye!\")\n",
    "        break\n",
    "\n",
    "    response = get_bot_response(user_input)\n",
    "    print(f\"Bot: {response}\")"
   ]
  }
 ],
 "metadata": {
  "kernelspec": {
   "display_name": "conda_python3",
   "language": "python",
   "name": "conda_python3"
  },
  "language_info": {
   "codemirror_mode": {
    "name": "ipython",
    "version": 3
   },
   "file_extension": ".py",
   "mimetype": "text/x-python",
   "name": "python",
   "nbconvert_exporter": "python",
   "pygments_lexer": "ipython3",
   "version": "3.10.13"
  }
 },
 "nbformat": 4,
 "nbformat_minor": 5
}
